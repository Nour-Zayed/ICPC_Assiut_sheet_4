{
 "cells": [
  {
   "cell_type": "code",
   "execution_count": 26,
   "id": "80415c92-a312-4b2a-b1f2-b91fb256f816",
   "metadata": {},
   "outputs": [
    {
     "name": "stdin",
     "output_type": "stream",
     "text": [
      " 5 4\n"
     ]
    },
    {
     "name": "stdout",
     "output_type": "stream",
     "text": [
      "9\n"
     ]
    }
   ],
   "source": [
    "# A problem1\n",
    "def add():\n",
    "    x,y=map(int, input().split())\n",
    "    print(x+y)\n",
    "add()    \n"
   ]
  },
  {
   "cell_type": "code",
   "execution_count": 40,
   "id": "14f00c2d-a573-4d2b-93b5-6878294ee5f7",
   "metadata": {},
   "outputs": [
    {
     "name": "stdin",
     "output_type": "stream",
     "text": [
      " 5\n"
     ]
    },
    {
     "name": "stdout",
     "output_type": "stream",
     "text": [
      "1 2 3 4 5\n"
     ]
    }
   ],
   "source": [
    "# B problem2\n",
    "\n",
    "def numbers():\n",
    "    x=int(input())\n",
    "    for i in range (1,x+1):\n",
    "        if i<x:\n",
    "           print(i,end=' ')\n",
    "        else:\n",
    "           print(i)\n",
    "numbers()\n"
   ]
  },
  {
   "cell_type": "code",
   "execution_count": 15,
   "id": "f92885a6-d04e-4f28-8299-36c5162570c4",
   "metadata": {},
   "outputs": [
    {
     "name": "stdin",
     "output_type": "stream",
     "text": [
      " 3\n"
     ]
    },
    {
     "name": "stdout",
     "output_type": "stream",
     "text": [
      "YES\n"
     ]
    }
   ],
   "source": [
    "# C problem3\n",
    "def Wonderful_Number():\n",
    "    x = int(input())  \n",
    "    if x % 2 == 0:  \n",
    "        print(\"NO\")  \n",
    "    else:\n",
    "        binary_rep = bin(x)[2:]  \n",
    "        if binary_rep == binary_rep[::-1]: \n",
    "            print(\"YES\")\n",
    "        else:\n",
    "            print(\"NO\")\n",
    "\n",
    "Wonderful_Number()\n",
    "\n",
    "    \n",
    "    "
   ]
  },
  {
   "cell_type": "code",
   "execution_count": 4,
   "id": "9598cef7-fdbd-435f-907b-693ad4cc83ee",
   "metadata": {},
   "outputs": [
    {
     "name": "stdin",
     "output_type": "stream",
     "text": [
      " 3\n",
      " 4\n"
     ]
    },
    {
     "name": "stdout",
     "output_type": "stream",
     "text": [
      "NO\n"
     ]
    },
    {
     "name": "stdin",
     "output_type": "stream",
     "text": [
      " 2\n"
     ]
    },
    {
     "name": "stdout",
     "output_type": "stream",
     "text": [
      "YES\n"
     ]
    },
    {
     "name": "stdin",
     "output_type": "stream",
     "text": [
      " 7\n"
     ]
    },
    {
     "name": "stdout",
     "output_type": "stream",
     "text": [
      "YES\n"
     ]
    }
   ],
   "source": [
    "# D problem4\n",
    "\n",
    "def Prime():\n",
    "    x = int(input())\n",
    "    for _ in range(x):\n",
    "        A = int(input())\n",
    "        is_prime = True\n",
    "        if A > 1:\n",
    "            for divisor in range(2, int(A**0.5) + 1):\n",
    "                if A % divisor == 0:\n",
    "                    is_prime = False\n",
    "                    break\n",
    "        else:\n",
    "            is_prime = False\n",
    " \n",
    "        if is_prime:\n",
    "            print(\"YES\")\n",
    "        else:\n",
    "            print(\"NO\")\n",
    " \n",
    "Prime()"
   ]
  },
  {
   "cell_type": "code",
   "execution_count": 5,
   "id": "a5b5b4c2-4a25-4377-80ce-672c2dc28ae2",
   "metadata": {},
   "outputs": [
    {
     "name": "stdin",
     "output_type": "stream",
     "text": [
      " 1 4\n"
     ]
    },
    {
     "name": "stdout",
     "output_type": "stream",
     "text": [
      "4 1\n"
     ]
    }
   ],
   "source": [
    "# E problem5\n",
    "\n",
    "def swap():\n",
    "    x,y = map(int, input().split())  \n",
    "    x,y=y,x\n",
    "    print(x,y)\n",
    "\n",
    "swap()"
   ]
  },
  {
   "cell_type": "code",
   "execution_count": 7,
   "id": "362cfebc-943b-46da-a7fa-58c15f7e3a19",
   "metadata": {},
   "outputs": [
    {
     "name": "stdin",
     "output_type": "stream",
     "text": [
      " 5 5\n"
     ]
    },
    {
     "name": "stdout",
     "output_type": "stream",
     "text": [
      "650\n"
     ]
    }
   ],
   "source": [
    "# F problem6\n",
    "def Equation():\n",
    "    x, y = map(int, input().split())\n",
    "    equation = 0\n",
    "    for i in range(0, y + 1, 2):  \n",
    "        equation += x ** i          \n",
    "    equation -= 1                   \n",
    "    \n",
    "    print(equation)\n",
    "\n",
    "Equation()"
   ]
  },
  {
   "cell_type": "code",
   "execution_count": 8,
   "id": "cdf45525-b64d-4195-af25-fefe0fd4081b",
   "metadata": {},
   "outputs": [
    {
     "name": "stdin",
     "output_type": "stream",
     "text": [
      " 10\n",
      "   10 13 95 1 3\n"
     ]
    },
    {
     "name": "stdout",
     "output_type": "stream",
     "text": [
      "1 95\n"
     ]
    }
   ],
   "source": [
    "# G problem7\n",
    "def max_min():\n",
    "    y = int(input())  \n",
    "    arr = list(map(int, input().split()))\n",
    "    print(min(arr), max(arr))\n",
    "max_min()"
   ]
  },
  {
   "cell_type": "code",
   "execution_count": 16,
   "id": "58c91ba5-4fa0-4c44-83ab-17971661f805",
   "metadata": {},
   "outputs": [
    {
     "name": "stdin",
     "output_type": "stream",
     "text": [
      " 2\n",
      " 1 n\n"
     ]
    },
    {
     "name": "stdout",
     "output_type": "stream",
     "text": [
      "n\n"
     ]
    },
    {
     "name": "stdin",
     "output_type": "stream",
     "text": [
      " 5 o\n"
     ]
    },
    {
     "name": "stdout",
     "output_type": "stream",
     "text": [
      "o o o o o\n"
     ]
    }
   ],
   "source": [
    "# H problem8\n",
    "def  N_Times():\n",
    "    a = int(input())\n",
    "    for _ in range(a):\n",
    "            inputs = input().split()\n",
    "            x = int(inputs[0])\n",
    "            y = inputs[1]       \n",
    "            print(' '.join([y] * x))\n",
    " \n",
    "N_Times()"
   ]
  },
  {
   "cell_type": "code",
   "execution_count": 17,
   "id": "dd311514-69c1-4b0d-8d4b-23369b2e169e",
   "metadata": {},
   "outputs": [
    {
     "name": "stdin",
     "output_type": "stream",
     "text": [
      " 4 3 1\n",
      "  1 2 3 -5\n",
      "  -5 4 0 3\n",
      "  7 7 1 2\n",
      "  40 6 5 11\n"
     ]
    },
    {
     "name": "stdout",
     "output_type": "stream",
     "text": [
      "1 7 7 2\n",
      "0 4 -5 3\n",
      "3 2 1 -5\n",
      "5 6 40 11\n"
     ]
    }
   ],
   "source": [
    "# I problem9\n",
    "\n",
    "def Swapping_Matrix(N, X, Y, matrix):\n",
    "    X -= 1\n",
    "    Y -= 1\n",
    "    \n",
    "    # Swap rows\n",
    "    matrix[X], matrix[Y] = matrix[Y], matrix[X]\n",
    "    \n",
    "    # Swap columns\n",
    "    for i in range(N):\n",
    "        matrix[i][X], matrix[i][Y] = matrix[i][Y], matrix[i][X]\n",
    "    \n",
    "    return matrix\n",
    "\n",
    "def print_matrix(matrix):\n",
    "    for row in matrix:\n",
    "        print(' '.join(map(str, row)))\n",
    "\n",
    "N, X, Y = map(int, input().split())\n",
    "matrix = [list(map(int, input().split())) for _ in range(N)]\n",
    "\n",
    "result_matrix = Swapping_Matrix(N, X, Y, matrix)\n",
    "\n",
    "print_matrix(result_matrix)"
   ]
  },
  {
   "cell_type": "code",
   "execution_count": 58,
   "id": "77d7d7c6-fa79-4af8-9c2b-2a9fe9ad56bc",
   "metadata": {},
   "outputs": [
    {
     "name": "stdin",
     "output_type": "stream",
     "text": [
      " 4\n",
      " 1.0 7.0 4.0 9.0\n"
     ]
    },
    {
     "name": "stdout",
     "output_type": "stream",
     "text": [
      "5.2500000\n"
     ]
    }
   ],
   "source": [
    "# J problem10\n",
    "\n",
    "def average():\n",
    "    x = int(input())  \n",
    "    input_float = list(map(float, input().split()))   \n",
    "    averg = sum(input_float) / x\n",
    "    print(f\"{averg:.7f}\")\n",
    "average()\n"
   ]
  },
  {
   "cell_type": "code",
   "execution_count": 18,
   "id": "d636963e-1627-4efc-8137-433e3a9eb7b8",
   "metadata": {},
   "outputs": [
    {
     "name": "stdin",
     "output_type": "stream",
     "text": [
      " 5 21\n",
      "  1 2 3 4 5\n"
     ]
    },
    {
     "name": "stdout",
     "output_type": "stream",
     "text": [
      "5 1 2 3 4\n"
     ]
    }
   ],
   "source": [
    "# K problem11\n",
    "def Shift_Right():\n",
    "      x,y = list(map(int,input().split()))\n",
    "      arr = list(map(int, input().split()))\n",
    "      y = y % x\n",
    "      shifted_array = arr[-y:] + arr[:-y] if y != 0 else arr\n",
    "    \n",
    "      print(' '.join(map(str, shifted_array)))\n",
    "    \n",
    "Shift_Right()   "
   ]
  },
  {
   "cell_type": "code",
   "execution_count": 28,
   "id": "ac7227f4-dfe2-45ed-b76d-1504d914dfda",
   "metadata": {},
   "outputs": [
    {
     "name": "stdin",
     "output_type": "stream",
     "text": [
      " 2\n",
      " 1 2\n",
      " 3 4\n"
     ]
    },
    {
     "name": "stdout",
     "output_type": "stream",
     "text": [
      "3 4 1 2\n"
     ]
    }
   ],
   "source": [
    "# L problem12\n",
    "def New_Array():\n",
    "      x = int(input())\n",
    "      arr1 = list(map(int, input().split()))\n",
    "      arr2 = list(map(int, input().split()))\n",
    "      combined = arr2 + arr1\n",
    "      print (' '.join(map(str,combined)))\n",
    "New_Array()\n"
   ]
  },
  {
   "cell_type": "code",
   "execution_count": 19,
   "id": "1e9ae04e-2bce-45ab-bcac-45473e561b71",
   "metadata": {},
   "outputs": [
    {
     "name": "stdin",
     "output_type": "stream",
     "text": [
      " 5\n",
      " 1 8 9 2 9\n"
     ]
    },
    {
     "name": "stdout",
     "output_type": "stream",
     "text": [
      "4\n"
     ]
    }
   ],
   "source": [
    "# M problem13\n",
    "\n",
    "def count_distinct_numbers(N, A):\n",
    "    if N == 0:\n",
    "        return 0\n",
    "    distinct_numbers = set(A)\n",
    "    return len(distinct_numbers)\n",
    "\n",
    "N = int(input())\n",
    "A = list(map(int, input().split())) if N > 0 else []\n",
    "\n",
    "print(count_distinct_numbers(N, A))\n"
   ]
  },
  {
   "cell_type": "code",
   "execution_count": 20,
   "id": "c7992738-e06c-4608-a430-2b91cacbb086",
   "metadata": {},
   "outputs": [
    {
     "name": "stdin",
     "output_type": "stream",
     "text": [
      " 4\n",
      "  2 0 0 5\n"
     ]
    },
    {
     "name": "stdout",
     "output_type": "stream",
     "text": [
      "2 5 0 0\n"
     ]
    }
   ],
   "source": [
    "# N problem14\n",
    "\n",
    "def Shift_Zeros():\n",
    "        x = int(input())  \n",
    "        arr = list(map(int, input().split()))\n",
    "    \n",
    "        array=0\n",
    "        for i in range (len(arr)):\n",
    "              if arr[i] != 0:\n",
    "                  arr[array]=arr[i]\n",
    "                  array +=1\n",
    "        while array < len(arr) :\n",
    "            arr[array] = 0\n",
    "            array +=1\n",
    "        print(' '.join(map(str, arr)))\n",
    "Shift_Zeros()"
   ]
  },
  {
   "cell_type": "code",
   "execution_count": 43,
   "id": "c39c2c4a-11f7-4c48-a5ef-61d16ce073d5",
   "metadata": {},
   "outputs": [
    {
     "name": "stdin",
     "output_type": "stream",
     "text": [
      " 5\n",
      "  8 2 14 1 83\n"
     ]
    },
    {
     "name": "stdout",
     "output_type": "stream",
     "text": [
      "The maximum number : 83\n",
      "The minimum number : 1\n",
      "The number of prime numbers : 2\n",
      "The number of palindrome numbers : 3\n",
      "The number that has the maximum number of divisors : 14\n"
     ]
    }
   ],
   "source": [
    "# O problem15\n",
    "\n",
    "def Five_in_One():\n",
    "    def is_prime(n):\n",
    "        if n <= 1:\n",
    "            return False\n",
    "        if n <= 3:\n",
    "            return True\n",
    "        if n % 2 == 0 or n % 3 == 0:\n",
    "            return False\n",
    "        i = 5\n",
    "        while i * i <= n:\n",
    "            if n % i == 0 or n % (i + 2) == 0:\n",
    "                return False\n",
    "            i += 6\n",
    "        return True\n",
    "\n",
    "    def is_palindrome(n):\n",
    "        s = str(n)\n",
    "        return s == s[::-1]\n",
    "\n",
    "    def count_divisors(n):\n",
    "        count = 0\n",
    "        for i in range(1, int(n**0.5) + 1):\n",
    "            if n % i == 0:\n",
    "                count += 1\n",
    "                if i != n // i:\n",
    "                    count += 1\n",
    "        return count\n",
    "\n",
    "    def max_divisors_number(arr):\n",
    "        if not arr:\n",
    "            return None\n",
    "        max_divisors = -1\n",
    "        result = -1\n",
    "        for num in arr:\n",
    "            div_count = count_divisors(num)\n",
    "            if div_count > max_divisors or (div_count == max_divisors and num > result):\n",
    "                max_divisors = div_count\n",
    "                result = num\n",
    "        return result\n",
    "\n",
    "    x = int(input())  \n",
    "    arr = list(map(int, input().split()))  \n",
    "   \n",
    "\n",
    "    max_value = max(arr)\n",
    "    min_value = min(arr)\n",
    "    prime_count = sum(1 for x in arr if is_prime(x))\n",
    "    palindrome_count = sum(1 for x in arr if is_palindrome(x))\n",
    "    max_divisors_num = max_divisors_number(arr)\n",
    "\n",
    "    print(\"The maximum number :\", max_value)\n",
    "    print(\"The minimum number :\", min_value)\n",
    "    print(\"The number of prime numbers :\", prime_count)\n",
    "    print(\"The number of palindrome numbers :\", palindrome_count)\n",
    "    print(\"The number that has the maximum number of divisors :\", max_divisors_num)\n",
    "\n",
    "Five_in_One()\n"
   ]
  },
  {
   "cell_type": "code",
   "execution_count": null,
   "id": "9126fb2e-54c7-4fe5-b854-8315bd0903e0",
   "metadata": {},
   "outputs": [],
   "source": []
  }
 ],
 "metadata": {
  "kernelspec": {
   "display_name": "Python 3 (ipykernel)",
   "language": "python",
   "name": "python3"
  },
  "language_info": {
   "codemirror_mode": {
    "name": "ipython",
    "version": 3
   },
   "file_extension": ".py",
   "mimetype": "text/x-python",
   "name": "python",
   "nbconvert_exporter": "python",
   "pygments_lexer": "ipython3",
   "version": "3.11.5"
  }
 },
 "nbformat": 4,
 "nbformat_minor": 5
}
